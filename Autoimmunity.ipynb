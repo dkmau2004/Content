{
  "nbformat": 4,
  "nbformat_minor": 0,
  "metadata": {
    "colab": {
      "provenance": [],
      "toc_visible": true,
      "authorship_tag": "ABX9TyN1O92ES0+zk9Wu6ySd3LZj",
      "include_colab_link": true
    },
    "kernelspec": {
      "name": "python3",
      "display_name": "Python 3"
    },
    "language_info": {
      "name": "python"
    }
  },
  "cells": [
    {
      "cell_type": "markdown",
      "metadata": {
        "id": "view-in-github",
        "colab_type": "text"
      },
      "source": [
        "<a href=\"https://colab.research.google.com/github/dkmau2004/Content/blob/main/Autoimmunity.ipynb\" target=\"_parent\"><img src=\"https://colab.research.google.com/assets/colab-badge.svg\" alt=\"Open In Colab\"/></a>"
      ]
    },
    {
      "cell_type": "markdown",
      "source": [
        "#Drug Induced Autoimmunity"
      ],
      "metadata": {
        "id": "2jlASWZuCDft"
      }
    },
    {
      "cell_type": "code",
      "source": [
        "pip install scikit-optimize"
      ],
      "metadata": {
        "id": "Mitr6L33WfzE"
      },
      "execution_count": null,
      "outputs": []
    },
    {
      "cell_type": "markdown",
      "source": [
        "##Importing Libraries"
      ],
      "metadata": {
        "id": "NWdou8qgP8jr"
      }
    },
    {
      "cell_type": "code",
      "execution_count": null,
      "metadata": {
        "id": "FWnPvoBWDKZI"
      },
      "outputs": [],
      "source": [
        "import numpy as np\n",
        "import pandas as pd\n",
        "import seaborn as sns\n",
        "import matplotlib.pyplot as plt\n",
        "\n",
        "from imblearn.over_sampling import SMOTE\n",
        "from collections import Counter\n",
        "\n",
        "import xgboost as xgb\n",
        "from xgboost import XGBRegressor, plot_importance, XGBClassifier\n",
        "\n",
        "from sklearn.model_selection import RandomizedSearchCV, train_test_split, GridSearchCV\n",
        "from sklearn.preprocessing import LabelEncoder\n",
        "from sklearn.metrics import accuracy_score, precision_score, recall_score, f1_score, confusion_matrix, classification_report\n",
        "\n",
        "from skopt import BayesSearchCV\n",
        "from skopt.space import Real, Integer\n",
        "\n",
        "from scipy.stats import pointbiserialr\n",
        "\n",
        "import shap"
      ]
    },
    {
      "cell_type": "markdown",
      "source": [
        "##Reading Files"
      ],
      "metadata": {
        "id": "yNXutq4wQFiu"
      }
    },
    {
      "cell_type": "code",
      "source": [
        "train_df = pd.read_csv('train.csv')\n",
        "test_df = pd.read_csv('test.csv')"
      ],
      "metadata": {
        "id": "bBg1x8wTP7qY"
      },
      "execution_count": null,
      "outputs": []
    },
    {
      "cell_type": "markdown",
      "source": [
        "##Analysing the Data"
      ],
      "metadata": {
        "id": "lwjwCEoOe6ii"
      }
    },
    {
      "cell_type": "code",
      "source": [
        "print(\"Dataset of train:\")\n",
        "display(train_df) #Showing the contents of the datasheet"
      ],
      "metadata": {
        "id": "HbWyiFYZe-IL"
      },
      "execution_count": null,
      "outputs": []
    },
    {
      "cell_type": "code",
      "source": [
        "print(\"Dataset of test:\")\n",
        "display(test_df)"
      ],
      "metadata": {
        "id": "JWWk3X-GfNFu"
      },
      "execution_count": null,
      "outputs": []
    },
    {
      "cell_type": "code",
      "source": [
        "plt.figure(figsize=(9, 8))\n",
        "sns.countplot(data=train_df, x=\"Label\", stat=\"percent\", color=\"steelblue\")\n",
        "plt.ylabel(\"Percentage (%)\")\n",
        "plt.xlabel(\"Label\")\n",
        "plt.title(\"Label Distribution in %\")\n",
        "plt.show()"
      ],
      "metadata": {
        "id": "24z2kW0pI_hX"
      },
      "execution_count": null,
      "outputs": []
    },
    {
      "cell_type": "markdown",
      "source": [
        "###Correlation Analysis"
      ],
      "metadata": {
        "id": "6q3aqUH0rTiI"
      }
    },
    {
      "cell_type": "code",
      "source": [
        "# Assume train_df contains all descriptors + 'Label'\n",
        "corr = train_df.drop(columns=[\"SMILES\", \"Label\"]).corr()\n",
        "plt.figure(figsize=(15, 12))\n",
        "sns.heatmap(corr, cmap=\"RdBu_r\", center=0, vmax=1, vmin=-1)\n",
        "plt.title(\"Feature-to-Feature Correlation Heatmap\")\n",
        "plt.show()"
      ],
      "metadata": {
        "id": "Ss58HWnxBT5x"
      },
      "execution_count": null,
      "outputs": []
    },
    {
      "cell_type": "code",
      "source": [
        "dropped_due_to_high_correlations = [\"Chi0n\", \"Chi0v\", \"Chi1\", \"Chi1n\", \"Chi1v\", \"NumSaturatedCarbocycles\", \"fr_Nhpyrrole\", \"MinAbsPartialCharge\", \"Chi2v\", \"Chi2n\", \"Chi3n\", \"MaxEStateIndex\", \"Chi3v\", \"Chi4n\", \"EState_VSA10\", \"Chi4v\", \"NumValenceElectrons\", \"SMR_VSA1\", \"VSA_EState9\", \"MolWt\", \"MolMR\", \"LabuteASA\", \"Kappa1\", \"HeavyAtomMolWt\", \"HeavyAtomCount\", \"ExactMolWt\"]"
      ],
      "metadata": {
        "id": "AW4uYgOyGXcq"
      },
      "execution_count": null,
      "outputs": []
    },
    {
      "cell_type": "code",
      "source": [
        "cols_to_drop = [\"SMILES\"] + dropped_due_to_high_correlations"
      ],
      "metadata": {
        "id": "0s4SfTOCDmEn"
      },
      "execution_count": null,
      "outputs": []
    },
    {
      "cell_type": "code",
      "source": [
        "#Removing some of the highly correlated.\n",
        "corr = train_df.drop(columns=[\"SMILES\", \"Label\", \"Chi0n\", \"Chi0v\", \"Chi1\", \"Chi1n\", \"Chi1v\", \"Chi2v\", \"fr_Nhpyrrole\", \"MaxEStateIndex\", \"Chi2n\", \"MinAbsPartialCharge\", \"EState_VSA10\", \"Chi3n\", \"Chi3v\", \"Chi4n\", \"Chi4v\", \"NumValenceElectrons\", \"SMR_VSA1\", \"VSA_EState9\", \"MolWt\", \"MolMR\", \"LabuteASA\", \"Kappa1\", \"HeavyAtomMolWt\", \"HeavyAtomCount\", \"ExactMolWt\"]).corr()\n",
        "plt.figure(figsize=(15, 12))\n",
        "sns.heatmap(corr, cmap=\"RdBu_r\", center=0, vmax=1, vmin=-1)\n",
        "plt.title(\"Feature-to-Feature Correlation Heatmap\")\n",
        "plt.show()"
      ],
      "metadata": {
        "id": "RoFgrgzqPchm"
      },
      "execution_count": null,
      "outputs": []
    },
    {
      "cell_type": "code",
      "source": [
        "corr.corr().style.background_gradient(cmap='viridis')"
      ],
      "metadata": {
        "id": "q3WiHpFsDW-L"
      },
      "execution_count": null,
      "outputs": []
    },
    {
      "cell_type": "code",
      "source": [
        "corr2 = train_df.drop(columns=[\"SMILES\", \"Label\", \"Chi0n\", \"Chi0v\", \"Chi1\", \"Chi1n\", \"Chi1v\", \"fr_Nhpyrrole\", \"Chi2v\", \"NumSaturatedCarbocycles\", \"MaxEStateIndex\", \"Chi2n\", \"MinAbsPartialCharge\", \"EState_VSA10\", \"Chi3n\", \"Chi3v\", \"Chi4n\", \"Chi4v\", \"NumValenceElectrons\", \"SMR_VSA1\", \"VSA_EState9\", \"MolWt\", \"MolMR\", \"LabuteASA\", \"Kappa1\", \"HeavyAtomMolWt\", \"HeavyAtomCount\", \"ExactMolWt\"]).corr()"
      ],
      "metadata": {
        "id": "iVOFivhlGzO4"
      },
      "execution_count": null,
      "outputs": []
    },
    {
      "cell_type": "code",
      "source": [
        "corr2.corr().style.background_gradient(cmap='viridis')"
      ],
      "metadata": {
        "id": "v8Esp2jKGuij"
      },
      "execution_count": null,
      "outputs": []
    },
    {
      "cell_type": "code",
      "source": [
        "# Correlation with the binary target\n",
        "feature_cols = train_df.columns.difference([\"SMILES\", \"Label\"])\n",
        "corr_target = {col: pointbiserialr(train_df[col], train_df[\"Label\"])[0] for col in feature_cols}\n",
        "corr_series = pd.Series(corr_target).sort_values(key=lambda x: abs(x), ascending=False)\n",
        "\n",
        "plt.figure(figsize=(10, 5))\n",
        "sns.barplot(x=corr_series.index[:15], y=corr_series.values[:15])\n",
        "plt.xticks(rotation=90)\n",
        "plt.title(\"Top 15 Features by Correlation with Autoimmunity Label\")\n",
        "plt.xlabel(\"Features\")\n",
        "plt.ylabel(\"Correlation\")\n",
        "plt.show()\n"
      ],
      "metadata": {
        "id": "pxqeUemKELK1"
      },
      "execution_count": null,
      "outputs": []
    },
    {
      "cell_type": "code",
      "source": [
        "# Compute absolute point-biserial correlation\n",
        "corr_target = {\n",
        "    col: abs(pointbiserialr(train_df[col], train_df[\"Label\"])[0])\n",
        "    for col in feature_cols\n",
        "}\n",
        "\n",
        "# Sort by strongest relationship\n",
        "corr_series = pd.Series(corr_target).sort_values(ascending=False)\n",
        "\n",
        "# Top 20 features\n",
        "plt.figure(figsize=(10, 5))\n",
        "sns.barplot(x=corr_series.index[:15], y=corr_series.values[:15])\n",
        "plt.xticks(rotation=90)\n",
        "plt.title(\"Top 15 Features by Absolute Correlation with Autoimmunity Label\")\n",
        "plt.xlabel(\"Features\")\n",
        "plt.ylabel(\"Absolute Correlation\")\n",
        "plt.show()"
      ],
      "metadata": {
        "id": "hRiBLhxwVgL8"
      },
      "execution_count": null,
      "outputs": []
    },
    {
      "cell_type": "markdown",
      "source": [
        "This show that fr_aniline has the greatest correlation with drug induced autoimmunity."
      ],
      "metadata": {
        "id": "n_hNkA6dtDAp"
      }
    },
    {
      "cell_type": "markdown",
      "source": [
        "### Distribution of some features"
      ],
      "metadata": {
        "id": "6ADOJO5l5EG3"
      }
    },
    {
      "cell_type": "code",
      "source": [
        "plt.figure(figsize=(10, 5))\n",
        "plt.xlabel(\"Label\")\n",
        "plt.ylabel(\"Percent %\")\n",
        "plt.title(\"Distribution of Label\")\n",
        "sns.countplot(data=train_df,x='Label', stat= 'percent')\n",
        "plt.show()"
      ],
      "metadata": {
        "id": "O2aHn7hq1_vt"
      },
      "execution_count": null,
      "outputs": []
    },
    {
      "cell_type": "markdown",
      "source": [
        "There's more 0 than 1 therefore the model needs to be imputed with data that has 1 so that the model wouldn't prioritise 0 over 1."
      ],
      "metadata": {
        "id": "4QfBR8sBDGNm"
      }
    },
    {
      "cell_type": "code",
      "source": [
        "plt.figure(figsize=(10, 5))\n",
        "plt.xlabel(\"fr_aniline\")\n",
        "plt.ylabel(\"Percent %\")\n",
        "plt.title(\"Distribution of fr_aniline\")\n",
        "sns.countplot(data=train_df,x='fr_aniline', stat= 'percent')\n",
        "plt.show()"
      ],
      "metadata": {
        "id": "LEkOH8ELCtoi"
      },
      "execution_count": null,
      "outputs": []
    },
    {
      "cell_type": "code",
      "source": [
        "# Count plot for fr_aniline\n",
        "plt.figure(figsize=(10, 5))\n",
        "sns.countplot(data=train_df,x='fr_aniline',hue='Label', stat='percent')\n",
        "plt.xlabel(\"fr_aniline\")\n",
        "plt.ylabel(\"Percent %\")\n",
        "plt.title(\"Distribution of fr_aniline by DIA Label\")\n",
        "plt.show()"
      ],
      "metadata": {
        "id": "Luaq_C41FXw5"
      },
      "execution_count": null,
      "outputs": []
    },
    {
      "cell_type": "code",
      "source": [
        "# Count plot for fr_ArN\n",
        "plt.figure(figsize=(10, 5))\n",
        "sns.countplot(data=train_df,x='fr_ArN',hue='Label', stat='percent')\n",
        "plt.xlabel(\"fr_ArN\")\n",
        "plt.ylabel(\"Percent %\")\n",
        "plt.title(\"Distribution of fr_ArN by DIA Label\")\n",
        "plt.show()"
      ],
      "metadata": {
        "id": "1wCKPTn94qjZ"
      },
      "execution_count": null,
      "outputs": []
    },
    {
      "cell_type": "code",
      "source": [
        "# Count plot for SlogP_VSA10\n",
        "plt.figure(figsize=(25, 7))\n",
        "sns.countplot(data=train_df,x='SlogP_VSA10',hue='Label', stat='percent')\n",
        "plt.xlabel(\"SlogP_VSA10\")\n",
        "plt.ylabel(\"Percent %\")\n",
        "plt.title(\"Distribution of SlogP_VSA10 by DIA Label\")\n",
        "plt.show()"
      ],
      "metadata": {
        "id": "UcFior-lI1zi"
      },
      "execution_count": null,
      "outputs": []
    },
    {
      "cell_type": "code",
      "source": [
        "# Count plot for fr_amide\n",
        "plt.figure(figsize=(10, 5))\n",
        "sns.countplot(data=train_df,x='fr_amide',hue='Label', stat='percent')\n",
        "plt.xlabel(\"fr_amide\")\n",
        "plt.ylabel(\"Percent %\")\n",
        "plt.title(\"Distribution of fr_amide by DIA Label\")\n",
        "plt.show()"
      ],
      "metadata": {
        "id": "5vZxqbBX495e"
      },
      "execution_count": null,
      "outputs": []
    },
    {
      "cell_type": "markdown",
      "source": [
        "## XGBoost Modelling"
      ],
      "metadata": {
        "id": "rrg1o5gZ-X2D"
      }
    },
    {
      "cell_type": "code",
      "source": [
        "# Separate features and labels\n",
        "train_df= train_df.drop(columns= cols_to_drop)\n",
        "test_df= test_df.drop(columns= cols_to_drop)\n",
        "X_train = train_df.drop(\"Label\", axis=1)\n",
        "y_train = train_df[\"Label\"]\n",
        "\n",
        "X_test = test_df.drop(\"Label\", axis=1)\n",
        "y_test = test_df[\"Label\"]"
      ],
      "metadata": {
        "id": "Dh4vlJsz-Xax"
      },
      "execution_count": null,
      "outputs": []
    },
    {
      "cell_type": "markdown",
      "source": [
        "### SMOTE"
      ],
      "metadata": {
        "id": "CF1-MTSgZ8r4"
      }
    },
    {
      "cell_type": "code",
      "source": [
        "\n",
        "# Before SMOTE\n",
        "print(\"Original class distribution:\", Counter(y_train))\n",
        "\n",
        "# Apply SMOTE\n",
        "smote = SMOTE(random_state=42)\n",
        "X_resampled, y_resampled = smote.fit_resample(X_train, y_train)\n",
        "\n",
        "# After SMOTE\n",
        "print(\"Resampled class distribution:\", Counter(y_resampled))"
      ],
      "metadata": {
        "id": "HW8sd1yjV_JS"
      },
      "execution_count": null,
      "outputs": []
    },
    {
      "cell_type": "code",
      "source": [
        "# xgb_param_grid = {\n",
        "#     'learning_rate': Real(0.01, 0.2, prior='uniform'),\n",
        "#     'n_estimators': Integer(100, 300),\n",
        "#     'max_depth': Integer(1, 10),\n",
        "#     'min_child_weight': Integer(1, 2),\n",
        "#     'subsample': Real(0.1, 0.3, prior='uniform'),\n",
        "#     'colsample_bytree': Real(0.6, 0.9, prior='uniform'),\n",
        "#     'gamma': Real(0.01, 1, prior='uniform'),\n",
        "#     'scale_pos_weight': Integer(0, 3)\n",
        "# }\n",
        "\n",
        "# xgb_class = BayesSearchCV(XGBClassifier(random_state=42, use_label_encoder=False, eval_metric=\"logloss\"),\n",
        "#                             search_spaces=xgb_param_grid,\n",
        "#                             n_iter=150,\n",
        "#                             cv=5,\n",
        "#                             verbose=True,\n",
        "#                             n_jobs=-1,\n",
        "#                             random_state=42)\n",
        "\n",
        "\n",
        "# xgb_class.fit(X_resampled, y_resampled)"
      ],
      "metadata": {
        "id": "igCF5QLbkMHc"
      },
      "execution_count": null,
      "outputs": []
    },
    {
      "cell_type": "markdown",
      "source": [
        "### Hyperparameter Tuning"
      ],
      "metadata": {
        "id": "fklkogO3Z-2x"
      }
    },
    {
      "cell_type": "code",
      "source": [
        "xgb_param_grid = {\n",
        "    'learning_rate': Real(0.01, 0.3, prior='uniform'),\n",
        "    'n_estimators': Integer(20, 80),\n",
        "    'max_depth': Integer(3, 7),\n",
        "    'min_child_weight': Integer(1, 3),\n",
        "    'lambda': Real(0.01, 10, prior='uniform'),\n",
        "    'alpha': Real(0.01, 10, prior='uniform'),\n",
        "    #'subsample': Real(0.7, 0.95, prior='uniform'),\n",
        "    #'colsample_bytree': Real(0.6, 0.9, prior='uniform'),\n",
        "    #'gamma': Real(0.01, 2, prior='uniform'),\n",
        "    #'scale_pos_weight': Integer(0, 3)\n",
        "}\n",
        "\n",
        "xgb_class = BayesSearchCV(XGBClassifier(random_state=42, use_label_encoder=False, eval_metric=\"logloss\", subsample=0.9, gamma=0.5),\n",
        "                            search_spaces=xgb_param_grid,\n",
        "                            n_iter=100,\n",
        "                            cv=5,\n",
        "                            verbose=True,\n",
        "                            n_jobs=-1,\n",
        "                            random_state=42)\n",
        "\n",
        "\n",
        "xgb_class.fit(X_resampled, y_resampled)"
      ],
      "metadata": {
        "colab": {
          "base_uri": "https://localhost:8080/"
        },
        "id": "BTIEsqLmAnOF",
        "outputId": "6b5b7fad-abfb-4301-f6b8-ae5e298d9965"
      },
      "execution_count": null,
      "outputs": [
        {
          "output_type": "stream",
          "name": "stdout",
          "text": [
            "Fitting 5 folds for each of 1 candidates, totalling 5 fits\n",
            "Fitting 5 folds for each of 1 candidates, totalling 5 fits\n",
            "Fitting 5 folds for each of 1 candidates, totalling 5 fits\n",
            "Fitting 5 folds for each of 1 candidates, totalling 5 fits\n",
            "Fitting 5 folds for each of 1 candidates, totalling 5 fits\n",
            "Fitting 5 folds for each of 1 candidates, totalling 5 fits\n",
            "Fitting 5 folds for each of 1 candidates, totalling 5 fits\n",
            "Fitting 5 folds for each of 1 candidates, totalling 5 fits\n",
            "Fitting 5 folds for each of 1 candidates, totalling 5 fits\n",
            "Fitting 5 folds for each of 1 candidates, totalling 5 fits\n",
            "Fitting 5 folds for each of 1 candidates, totalling 5 fits\n",
            "Fitting 5 folds for each of 1 candidates, totalling 5 fits\n",
            "Fitting 5 folds for each of 1 candidates, totalling 5 fits\n",
            "Fitting 5 folds for each of 1 candidates, totalling 5 fits\n",
            "Fitting 5 folds for each of 1 candidates, totalling 5 fits\n",
            "Fitting 5 folds for each of 1 candidates, totalling 5 fits\n",
            "Fitting 5 folds for each of 1 candidates, totalling 5 fits\n",
            "Fitting 5 folds for each of 1 candidates, totalling 5 fits\n",
            "Fitting 5 folds for each of 1 candidates, totalling 5 fits\n",
            "Fitting 5 folds for each of 1 candidates, totalling 5 fits\n",
            "Fitting 5 folds for each of 1 candidates, totalling 5 fits\n",
            "Fitting 5 folds for each of 1 candidates, totalling 5 fits\n",
            "Fitting 5 folds for each of 1 candidates, totalling 5 fits\n",
            "Fitting 5 folds for each of 1 candidates, totalling 5 fits\n",
            "Fitting 5 folds for each of 1 candidates, totalling 5 fits\n",
            "Fitting 5 folds for each of 1 candidates, totalling 5 fits\n",
            "Fitting 5 folds for each of 1 candidates, totalling 5 fits\n",
            "Fitting 5 folds for each of 1 candidates, totalling 5 fits\n",
            "Fitting 5 folds for each of 1 candidates, totalling 5 fits\n",
            "Fitting 5 folds for each of 1 candidates, totalling 5 fits\n",
            "Fitting 5 folds for each of 1 candidates, totalling 5 fits\n",
            "Fitting 5 folds for each of 1 candidates, totalling 5 fits\n",
            "Fitting 5 folds for each of 1 candidates, totalling 5 fits\n",
            "Fitting 5 folds for each of 1 candidates, totalling 5 fits\n",
            "Fitting 5 folds for each of 1 candidates, totalling 5 fits\n",
            "Fitting 5 folds for each of 1 candidates, totalling 5 fits\n",
            "Fitting 5 folds for each of 1 candidates, totalling 5 fits\n",
            "Fitting 5 folds for each of 1 candidates, totalling 5 fits\n",
            "Fitting 5 folds for each of 1 candidates, totalling 5 fits\n",
            "Fitting 5 folds for each of 1 candidates, totalling 5 fits\n",
            "Fitting 5 folds for each of 1 candidates, totalling 5 fits\n",
            "Fitting 5 folds for each of 1 candidates, totalling 5 fits\n",
            "Fitting 5 folds for each of 1 candidates, totalling 5 fits\n",
            "Fitting 5 folds for each of 1 candidates, totalling 5 fits\n",
            "Fitting 5 folds for each of 1 candidates, totalling 5 fits\n",
            "Fitting 5 folds for each of 1 candidates, totalling 5 fits\n",
            "Fitting 5 folds for each of 1 candidates, totalling 5 fits\n",
            "Fitting 5 folds for each of 1 candidates, totalling 5 fits\n",
            "Fitting 5 folds for each of 1 candidates, totalling 5 fits\n",
            "Fitting 5 folds for each of 1 candidates, totalling 5 fits\n",
            "Fitting 5 folds for each of 1 candidates, totalling 5 fits\n",
            "Fitting 5 folds for each of 1 candidates, totalling 5 fits\n",
            "Fitting 5 folds for each of 1 candidates, totalling 5 fits\n",
            "Fitting 5 folds for each of 1 candidates, totalling 5 fits\n",
            "Fitting 5 folds for each of 1 candidates, totalling 5 fits\n",
            "Fitting 5 folds for each of 1 candidates, totalling 5 fits\n",
            "Fitting 5 folds for each of 1 candidates, totalling 5 fits\n",
            "Fitting 5 folds for each of 1 candidates, totalling 5 fits\n",
            "Fitting 5 folds for each of 1 candidates, totalling 5 fits\n",
            "Fitting 5 folds for each of 1 candidates, totalling 5 fits\n",
            "Fitting 5 folds for each of 1 candidates, totalling 5 fits\n",
            "Fitting 5 folds for each of 1 candidates, totalling 5 fits\n",
            "Fitting 5 folds for each of 1 candidates, totalling 5 fits\n",
            "Fitting 5 folds for each of 1 candidates, totalling 5 fits\n",
            "Fitting 5 folds for each of 1 candidates, totalling 5 fits\n",
            "Fitting 5 folds for each of 1 candidates, totalling 5 fits\n",
            "Fitting 5 folds for each of 1 candidates, totalling 5 fits\n",
            "Fitting 5 folds for each of 1 candidates, totalling 5 fits\n",
            "Fitting 5 folds for each of 1 candidates, totalling 5 fits\n",
            "Fitting 5 folds for each of 1 candidates, totalling 5 fits\n",
            "Fitting 5 folds for each of 1 candidates, totalling 5 fits\n",
            "Fitting 5 folds for each of 1 candidates, totalling 5 fits\n",
            "Fitting 5 folds for each of 1 candidates, totalling 5 fits\n",
            "Fitting 5 folds for each of 1 candidates, totalling 5 fits\n",
            "Fitting 5 folds for each of 1 candidates, totalling 5 fits\n",
            "Fitting 5 folds for each of 1 candidates, totalling 5 fits\n",
            "Fitting 5 folds for each of 1 candidates, totalling 5 fits\n",
            "Fitting 5 folds for each of 1 candidates, totalling 5 fits\n",
            "Fitting 5 folds for each of 1 candidates, totalling 5 fits\n",
            "Fitting 5 folds for each of 1 candidates, totalling 5 fits\n",
            "Fitting 5 folds for each of 1 candidates, totalling 5 fits\n",
            "Fitting 5 folds for each of 1 candidates, totalling 5 fits\n",
            "Fitting 5 folds for each of 1 candidates, totalling 5 fits\n",
            "Fitting 5 folds for each of 1 candidates, totalling 5 fits\n",
            "Fitting 5 folds for each of 1 candidates, totalling 5 fits\n",
            "Fitting 5 folds for each of 1 candidates, totalling 5 fits\n",
            "Fitting 5 folds for each of 1 candidates, totalling 5 fits\n",
            "Fitting 5 folds for each of 1 candidates, totalling 5 fits\n",
            "Fitting 5 folds for each of 1 candidates, totalling 5 fits\n",
            "Fitting 5 folds for each of 1 candidates, totalling 5 fits\n",
            "Fitting 5 folds for each of 1 candidates, totalling 5 fits\n",
            "Fitting 5 folds for each of 1 candidates, totalling 5 fits\n"
          ]
        }
      ]
    },
    {
      "cell_type": "code",
      "source": [
        "# Get the best hyperparameters from RandomizedSearchCV for XGBoost\n",
        "best_params_xgb = xgb_class.best_params_\n",
        "\n",
        "print(\"Best Hyperparameters for XGBoost:\")\n",
        "for param, value in best_params_xgb.items():\n",
        "    print(f\"  {param}: {value}\")"
      ],
      "metadata": {
        "id": "9u5Klv4LAzkW"
      },
      "execution_count": null,
      "outputs": []
    },
    {
      "cell_type": "markdown",
      "source": [
        "### Predictions"
      ],
      "metadata": {
        "id": "qkFw-sFpaB-g"
      }
    },
    {
      "cell_type": "code",
      "source": [
        "# Predict on the test set\n",
        "y_pred = xgb_class.predict(X_test)\n",
        "\n",
        "# Evaluate performance\n",
        "print(\"Accuracy :\", accuracy_score(y_test, y_pred))\n",
        "print(\"Precision:\", precision_score(y_test, y_pred))\n",
        "print(\"Recall   :\", recall_score(y_test, y_pred))\n",
        "print(\"F1 Score :\", f1_score(y_test, y_pred))\n",
        "\n",
        "# Extra: Detailed report\n",
        "print(\"\\nClassification Report:\\n\", classification_report(y_test, y_pred))\n",
        "\n",
        "# Extra: Confusion matrix\n",
        "cm = confusion_matrix(y_test, y_pred)\n",
        "print(\"\\nConfusion Matrix:\\n\", cm)"
      ],
      "metadata": {
        "id": "lkj3lrq5AptZ"
      },
      "execution_count": null,
      "outputs": []
    },
    {
      "cell_type": "code",
      "source": [
        "from sklearn.metrics import roc_auc_score\n",
        "\n",
        "# Compute AUC\n",
        "auc = roc_auc_score(y_test, y_pred)\n",
        "print(\"AUC:\", auc)\n"
      ],
      "metadata": {
        "id": "sDcZdqbnf2oW"
      },
      "execution_count": null,
      "outputs": []
    },
    {
      "cell_type": "code",
      "source": [
        "from sklearn.metrics import matthews_corrcoef\n",
        "\n",
        "mcc = matthews_corrcoef(y_test, y_pred)\n",
        "print(\"MCC:\", mcc)\n"
      ],
      "metadata": {
        "id": "K48kZ-BggDyr"
      },
      "execution_count": null,
      "outputs": []
    }
  ]
}